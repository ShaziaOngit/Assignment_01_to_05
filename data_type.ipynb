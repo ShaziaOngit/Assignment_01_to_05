{
  "nbformat": 4,
  "nbformat_minor": 0,
  "metadata": {
    "colab": {
      "provenance": [],
      "authorship_tag": "ABX9TyMtp444nwTWFApl0pLlqAMs",
      "include_colab_link": true
    },
    "kernelspec": {
      "name": "python3",
      "display_name": "Python 3"
    },
    "language_info": {
      "name": "python"
    }
  },
  "cells": [
    {
      "cell_type": "markdown",
      "metadata": {
        "id": "view-in-github",
        "colab_type": "text"
      },
      "source": [
        "<a href=\"https://colab.research.google.com/github/ShaziaOngit/Assignment_01_to_05/blob/main/data_type.ipynb\" target=\"_parent\"><img src=\"https://colab.research.google.com/assets/colab-badge.svg\" alt=\"Open In Colab\"/></a>"
      ]
    },
    {
      "cell_type": "code",
      "source": [
        "num_int: int = 42\n",
        "\n",
        "print(type(num_int),\" num_int = \",num_int,)  # <class 'int'>"
      ],
      "metadata": {
        "id": "fmpednR48H5z",
        "colab": {
          "base_uri": "https://localhost:8080/"
        },
        "outputId": "64d0345e-1704-4fab-f044-00b04006e22d"
      },
      "execution_count": null,
      "outputs": [
        {
          "output_type": "stream",
          "name": "stdout",
          "text": [
            "<class 'int'>  num_int =  42\n"
          ]
        }
      ]
    },
    {
      "cell_type": "markdown",
      "source": [
        "##b. Floating-Point (float)\n",
        "Numbers with decimal points."
      ],
      "metadata": {
        "id": "-KGLY8U-Zv3g"
      }
    },
    {
      "cell_type": "code",
      "source": [
        "num_float: float = 3.14\n",
        "#num_float: float = .14\n",
        "\n",
        "print(type(num_float), \" num_float = \", num_float)  # <class 'float'>"
      ],
      "metadata": {
        "id": "-PKL8rZe8Hbj",
        "colab": {
          "base_uri": "https://localhost:8080/"
        },
        "outputId": "216870c2-ce4c-4215-9ce1-d6eb98a7fc42"
      },
      "execution_count": null,
      "outputs": [
        {
          "output_type": "stream",
          "name": "stdout",
          "text": [
            "<class 'float'>  num_float =  0.14\n"
          ]
        }
      ]
    },
    {
      "cell_type": "markdown",
      "source": [
        "##c. Complex (complex)\n",
        "Numbers with a real and imaginary part."
      ],
      "metadata": {
        "id": "yEstKFgkecGj"
      }
    },
    {
      "cell_type": "code",
      "source": [
        "num_complex: complex = 2 + 3j\n",
        "\n",
        "print(type(num_complex), \" num_complex = \", num_complex)  # <class 'complex'>"
      ],
      "metadata": {
        "colab": {
          "base_uri": "https://localhost:8080/"
        },
        "id": "XnOaVRJMegOb",
        "outputId": "00f45aec-a38c-4457-e6bb-e06ca0e1c073"
      },
      "execution_count": null,
      "outputs": [
        {
          "output_type": "stream",
          "name": "stdout",
          "text": [
            "<class 'complex'>  num_complex =  (2+3j)\n"
          ]
        }
      ]
    },
    {
      "cell_type": "code",
      "source": [
        "z = 3 + 4j\n",
        "\n",
        "print(\"Real Part:\", z.real)   # Output: 3.0\n",
        "print(\"Imaginary Part:\", z.imag)  # Output: 4.0\n"
      ],
      "metadata": {
        "colab": {
          "base_uri": "https://localhost:8080/"
        },
        "id": "PXfnlEpCOnpf",
        "outputId": "d08a51ff-3636-48d4-bd25-a675f215f027"
      },
      "execution_count": null,
      "outputs": [
        {
          "output_type": "stream",
          "name": "stdout",
          "text": [
            "Real Part: 3.0\n",
            "Imaginary Part: 4.0\n"
          ]
        }
      ]
    },
    {
      "cell_type": "code",
      "source": [],
      "metadata": {
        "id": "ouUMtNSZQ4uI"
      },
      "execution_count": null,
      "outputs": []
    },
    {
      "cell_type": "markdown",
      "source": [
        "# **2. Boolean (bool)**\n",
        "Represents True or False."
      ],
      "metadata": {
        "id": "FjfT5KJoerBa"
      }
    },
    {
      "cell_type": "code",
      "source": [
        "is_python_fun: bool = True #False\n",
        "\n",
        "print(type(is_python_fun), \" is_python_fun = \", is_python_fun)  # <class 'bool'>"
      ],
      "metadata": {
        "colab": {
          "base_uri": "https://localhost:8080/"
        },
        "id": "YSKhFipPevfS",
        "outputId": "8a2c19e1-db46-42ef-e678-0b4491a7860e"
      },
      "execution_count": null,
      "outputs": [
        {
          "output_type": "stream",
          "name": "stdout",
          "text": [
            "<class 'bool'>  is_python_fun =  True\n"
          ]
        }
      ]
    },
    {
      "cell_type": "code",
      "source": [],
      "metadata": {
        "id": "yr-LXlCyRNVg"
      },
      "execution_count": null,
      "outputs": []
    },
    {
      "cell_type": "code",
      "source": [
        "text_double: str  = \"Hello, Python!\" # Strings with Double Quotes (\")\n",
        "text_single: str  = 'Hello, Python!' # Strings with Single Quotes (')\n",
        "text_multi: str   = '''Hello, Python!''' # Multi-Line Strings with Triple Quotes (''' or \"\"\")\n",
        "text_multi_1: str = \"\"\"Hello, Python!\"\"\" # Multi-Line Strings with Triple Quotes (''' or \"\"\")\n",
        "\n",
        "print(type(text_double), \" text_double   = \", text_double)    # <class 'str'>\n",
        "print(type(text_single), \" text_single   = \", text_single)    # <class 'str'>\n",
        "print(type(text_multi), \" text_multi    = \", text_multi)      # <class 'str'>\n",
        "print(type(text_multi_1), \" text_multi_1  = \", text_multi_1)  # <class 'str'>\n",
        "\n"
      ],
      "metadata": {
        "colab": {
          "base_uri": "https://localhost:8080/"
        },
        "id": "9jr31ibhfvJa",
        "outputId": "19525925-673a-4591-aa9e-6d5eead3c8a6"
      },
      "execution_count": null,
      "outputs": [
        {
          "output_type": "stream",
          "name": "stdout",
          "text": [
            "<class 'str'>  text_double   =  Hello, Python!\n",
            "<class 'str'>  text_single   =  Hello, Python!\n",
            "<class 'str'>  text_multi    =  Hello, Python!\n",
            "<class 'str'>  text_multi_1  =  Hello, Python!\n"
          ]
        }
      ]
    },
    {
      "cell_type": "markdown",
      "source": [
        "# **3. Sequence Types**\n",
        "These store multiple items in an ordered way.\n",
        "\n",
        "##a. String (str)\n",
        "A sequence of characters enclosed in quotes."
      ],
      "metadata": {
        "id": "TJUhDEyDfgbC"
      }
    },
    {
      "cell_type": "code",
      "source": [],
      "metadata": {
        "id": "IGvUV1H7SLnk"
      },
      "execution_count": null,
      "outputs": []
    },
    {
      "cell_type": "code",
      "source": [
        "text_double: str  = \"Hello, Python!\" # Strings with Double Quotes (\")\n",
        "text_single: str  = 'Hello, Python!' # Strings with Single Quotes (')\n",
        "text_multi: str   = '''Hello, Python!''' # Multi-Line Strings with Triple Quotes (''' or \"\"\")\n",
        "text_multi_1: str = \"\"\"Hello, Python!\"\"\" # Multi-Line Strings with Triple Quotes (''' or \"\"\")\n",
        "\n",
        "print(type(text_double), \" text_double   = \", text_double)    # <class 'str'>\n",
        "print(type(text_single), \" text_single   = \", text_single)    # <class 'str'>\n",
        "print(type(text_multi), \" text_multi    = \", text_multi)      # <class 'str'>\n",
        "print(type(text_multi_1), \" text_multi_1  = \", text_multi_1)  # <class 'str'>\n",
        "\n"
      ],
      "metadata": {
        "colab": {
          "base_uri": "https://localhost:8080/"
        },
        "outputId": "19525925-673a-4591-aa9e-6d5eead3c8a6",
        "id": "NJkMIc7iR_6U"
      },
      "execution_count": null,
      "outputs": [
        {
          "output_type": "stream",
          "name": "stdout",
          "text": [
            "<class 'str'>  text_double   =  Hello, Python!\n",
            "<class 'str'>  text_single   =  Hello, Python!\n",
            "<class 'str'>  text_multi    =  Hello, Python!\n",
            "<class 'str'>  text_multi_1  =  Hello, Python!\n"
          ]
        }
      ]
    },
    {
      "cell_type": "markdown",
      "source": [
        "##b. List (list)\n",
        "An ordered, mutable collection."
      ],
      "metadata": {
        "id": "uehGlxlplpRt"
      }
    },
    {
      "cell_type": "code",
      "source": [
        "my_list_1: int = [1, 2, 3, \"Java\", 3.14, True] #Type hinting is not enforced in python, but you should mention appropriate data type in this case 'list'\n",
        "my_list: list = [1, 2, 3, \"Python\", 3.14, 3+2j]\n",
        "\n",
        "print(type(my_list_1), \" my_list_1 = \", my_list_1)  # <class 'list'>\n",
        "print(type(my_list), \" my_list   =  \" + str(my_list)) # we will look into type casting in classes ahead"
      ],
      "metadata": {
        "colab": {
          "base_uri": "https://localhost:8080/"
        },
        "id": "q09yosMmltwl",
        "outputId": "214b10aa-05d2-4f48-fcb0-441bb5d4c5a7"
      },
      "execution_count": null,
      "outputs": [
        {
          "output_type": "stream",
          "name": "stdout",
          "text": [
            "<class 'list'>  my_list_1 =  [1, 2, 3, 'Java', 3.14, True]\n",
            "<class 'list'>  my_list   =  [1, 2, 3, 'Python', 3.14, (3+2j)]\n"
          ]
        }
      ]
    },
    {
      "cell_type": "markdown",
      "source": [
        "##c. Tuple (tuple)\n",
        "An ordered, immutable collection."
      ],
      "metadata": {
        "id": "hXKS2ioDnZB0"
      }
    },
    {
      "cell_type": "code",
      "source": [
        "my_tuple: tuple = (1, 2, 3, \"AI\", 2.71, False, .3 , 3+2j )\n",
        "print(type(my_tuple), \" my_tuple = \", my_tuple )  # <class 'tuple'>"
      ],
      "metadata": {
        "colab": {
          "base_uri": "https://localhost:8080/"
        },
        "id": "RLyNfg8unbbr",
        "outputId": "07ba40af-cd7f-40ff-b669-5cbdfffb5e8d"
      },
      "execution_count": null,
      "outputs": [
        {
          "output_type": "stream",
          "name": "stdout",
          "text": [
            "<class 'tuple'>  my_tuple =  (1, 2, 3, 'AI', 2.71, False, 0.3, (3+2j))\n"
          ]
        }
      ]
    },
    {
      "cell_type": "markdown",
      "source": [
        "## d. Range (range)\n",
        "Represents a sequence of numbers."
      ],
      "metadata": {
        "id": "L0MnL8l7npXL"
      }
    },
    {
      "cell_type": "code",
      "source": [],
      "metadata": {
        "id": "UMrUuAvwWkqr"
      },
      "execution_count": null,
      "outputs": []
    },
    {
      "cell_type": "code",
      "source": [
        "num_range: range = range(1, 10, 2) # range(start, stop, step)\n",
        "print(type(num_range), \" num_range = \", num_range.step)  # <class 'range'>"
      ],
      "metadata": {
        "colab": {
          "base_uri": "https://localhost:8080/"
        },
        "id": "jKNeEdtZzsuK",
        "outputId": "49547574-ecf8-475f-e61a-3443cb15b11b"
      },
      "execution_count": null,
      "outputs": [
        {
          "output_type": "stream",
          "name": "stdout",
          "text": [
            "<class 'range'>  num_range =  2\n"
          ]
        }
      ]
    },
    {
      "cell_type": "code",
      "source": [
        "for i in range(1, 10, 2): # we will study loops indepth in classes ahead\n",
        "  print(i)"
      ],
      "metadata": {
        "colab": {
          "base_uri": "https://localhost:8080/"
        },
        "id": "BwaCWX8w0F1Y",
        "outputId": "380222bf-a307-490e-afe0-f0c2a6a54b79"
      },
      "execution_count": null,
      "outputs": [
        {
          "output_type": "stream",
          "name": "stdout",
          "text": [
            "1\n",
            "3\n",
            "5\n",
            "7\n",
            "9\n"
          ]
        }
      ]
    },
    {
      "cell_type": "code",
      "source": [],
      "metadata": {
        "id": "g5PDlio0TSM9"
      },
      "execution_count": null,
      "outputs": []
    },
    {
      "cell_type": "markdown",
      "source": [
        "# **4. Set Types**\n",
        "`(We will cover this indepth in classes ahead)`\n",
        "\n",
        "Unordered collections with unique elements.\n",
        "\n",
        "## a. Set (set)\n",
        "`Mutable`, `unordered`, and contains `unique values`."
      ],
      "metadata": {
        "id": "0jiFRisu16lX"
      }
    },
    {
      "cell_type": "code",
      "source": [
        "my_set: set = {1, 2, 33, 4, 4, 5}\n",
        "print(type(my_set), \"my_set = \", my_set)  # <class 'set'>"
      ],
      "metadata": {
        "colab": {
          "base_uri": "https://localhost:8080/"
        },
        "id": "2wEOjFfI1zfW",
        "outputId": "f089e63f-6571-4fd1-9f4f-8611e549f42a"
      },
      "execution_count": null,
      "outputs": [
        {
          "output_type": "stream",
          "name": "stdout",
          "text": [
            "<class 'set'> my_set =  {1, 2, 33, 4, 5}\n"
          ]
        }
      ]
    },
    {
      "cell_type": "markdown",
      "source": [
        "## b. Frozen Set (frozenset)\n",
        "Immutable version of a set."
      ],
      "metadata": {
        "id": "_4J3whrd1nlA"
      }
    },
    {
      "cell_type": "code",
      "source": [],
      "metadata": {
        "id": "EspKgSbxUCBg"
      },
      "execution_count": null,
      "outputs": []
    },
    {
      "cell_type": "code",
      "source": [
        "frozen_set = frozenset([11, 2, 3, 4, 4, 5])\n",
        "#frozen_set = frozenset(my_set)\n",
        "print(type(frozen_set), \" frozen_set = \", frozen_set)  # <class 'frozenset'>"
      ],
      "metadata": {
        "colab": {
          "base_uri": "https://localhost:8080/"
        },
        "id": "DMCfWO1TA0DV",
        "outputId": "9f5b162b-dd2e-401c-8ccc-a5fd4af6e8f9"
      },
      "execution_count": null,
      "outputs": [
        {
          "output_type": "stream",
          "name": "stdout",
          "text": [
            "<class 'frozenset'>  frozen_set =  frozenset({1, 2, 33, 4, 5})\n"
          ]
        }
      ]
    },
    {
      "cell_type": "code",
      "source": [],
      "metadata": {
        "id": "hgC6s5z3UH7b"
      },
      "execution_count": null,
      "outputs": []
    },
    {
      "cell_type": "markdown",
      "source": [
        "# **5. Mapping Type**\n",
        "\n",
        "Dictionary (dict)\n",
        "Stores key-value pairs."
      ],
      "metadata": {
        "id": "Ox1IatryBd01"
      }
    },
    {
      "cell_type": "code",
      "source": [],
      "metadata": {
        "id": "vHV1HBM5UNWS"
      },
      "execution_count": null,
      "outputs": []
    },
    {
      "cell_type": "code",
      "source": [
        "my_dict: dict = {\"name\": \"Alice\", \"age\": 25, \"language\": \"Python\"}\n",
        "print(type(my_dict),\" my_dict = \", my_dict )  # <class 'dict'>"
      ],
      "metadata": {
        "colab": {
          "base_uri": "https://localhost:8080/"
        },
        "id": "PS7qHqJdBiH1",
        "outputId": "791176e5-39bf-4eb2-b11f-03f0bd671f35"
      },
      "execution_count": null,
      "outputs": [
        {
          "output_type": "stream",
          "name": "stdout",
          "text": [
            "<class 'dict'>  my_dict =  {'name': 'Alice', 'age': 25, 'language': 'Python'}\n"
          ]
        }
      ]
    },
    {
      "cell_type": "code",
      "source": [],
      "metadata": {
        "id": "vKWO__neUaeq"
      },
      "execution_count": null,
      "outputs": []
    },
    {
      "cell_type": "markdown",
      "source": [],
      "metadata": {
        "id": "P7mlJgLhB7N8"
      }
    },
    {
      "cell_type": "code",
      "source": [],
      "metadata": {
        "id": "TK47pUfzUhtC"
      },
      "execution_count": null,
      "outputs": []
    },
    {
      "cell_type": "code",
      "source": [
        "byte_data: bytes = b\"Hello\"\n",
        "print(type(byte_data), \" byte_data = \", byte_data)  # <class 'bytes'>"
      ],
      "metadata": {
        "colab": {
          "base_uri": "https://localhost:8080/"
        },
        "id": "IDZtUyWHCAMz",
        "outputId": "60dcd386-e42d-4460-d81c-5e45de1565b9"
      },
      "execution_count": null,
      "outputs": [
        {
          "output_type": "stream",
          "name": "stdout",
          "text": [
            "<class 'bytes'>  byte_data =  b'Hello'\n"
          ]
        }
      ]
    }
  ]
}