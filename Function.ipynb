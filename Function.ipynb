{
  "cells": [
    {
      "cell_type": "markdown",
      "metadata": {
        "id": "view-in-github",
        "colab_type": "text"
      },
      "source": [
        "<a href=\"https://colab.research.google.com/github/ShaziaOngit/Assignment_01_to_05/blob/main/Function.ipynb\" target=\"_parent\"><img src=\"https://colab.research.google.com/assets/colab-badge.svg\" alt=\"Open In Colab\"/></a>"
      ]
    },
    {
      "cell_type": "code",
      "execution_count": null,
      "metadata": {
        "colab": {
          "base_uri": "https://localhost:8080/"
        },
        "id": "_Kjr14nOMOtZ",
        "outputId": "c911f93e-2f13-4448-fd63-af43ae85ce58"
      },
      "outputs": [
        {
          "name": "stdout",
          "output_type": "stream",
          "text": [
            "avg_1 5.0\n",
            "avg_2 9.0\n",
            "final 7.0\n"
          ]
        }
      ],
      "source": [
        "# Write a function that takes two numbers and finds the average between the two.\n",
        "\n",
        "def avg(a,b):\n",
        "    sum = a + b\n",
        "    avg = sum / 2\n",
        "    return avg\n",
        "\n",
        "avg_1 = avg(0, 10)\n",
        "avg_2 = avg(8, 10)\n",
        "\n",
        "final = avg(avg_1, avg_2)\n",
        "print(\"avg_1\", avg_1)\n",
        "print(\"avg_2\", avg_2)\n",
        "print(\"final\", final)"
      ]
    },
    {
      "cell_type": "code",
      "execution_count": null,
      "metadata": {
        "colab": {
          "base_uri": "https://localhost:8080/"
        },
        "id": "_Hc9n67dMwpB",
        "outputId": "1776a43d-f50f-4ec7-f9e7-b5e690406051"
      },
      "outputs": [
        {
          "name": "stdout",
          "output_type": "stream",
          "text": [
            "I'm going to count until 10 or until I feel like stopping, whichever comes first.\n",
            "\n",
            "I'm done.\n"
          ]
        }
      ],
      "source": [
        "\n",
        "import random\n",
        "\n",
        "DONE_LIKELIHOOD = 0.3  # 30% chance to stop at each step\n",
        "\n",
        "def done():\n",
        "    return random.random() < DONE_LIKELIHOOD\n",
        "\n",
        "def chaotic_counting():\n",
        "    for i in range(1, 11):\n",
        "        if done():\n",
        "            return\n",
        "        print(i, end=' ')\n",
        "\n",
        "def main():\n",
        "    print(\"I'm going to count until 10 or until I feel like stopping, whichever comes first.\")\n",
        "    chaotic_counting()\n",
        "    print(\"\\nI'm done.\")\n",
        "\n",
        "# Run the main function\n",
        "main()"
      ]
    },
    {
      "cell_type": "code",
      "execution_count": null,
      "metadata": {
        "colab": {
          "base_uri": "https://localhost:8080/"
        },
        "id": "Z71fyw1aM7B-",
        "outputId": "581014f5-adb5-4ab4-95d8-628c2fdb5a08"
      },
      "outputs": [
        {
          "name": "stdout",
          "output_type": "stream",
          "text": [
            "Enter an integer or press enter to stop: 8\n",
            "Enter an integer or press enter to stop: 6\n",
            "Enter an integer or press enter to stop: \n",
            "The Even Number in List is 2\n"
          ]
        }
      ],
      "source": [
        "# Fill out the function count_even(lst) which\n",
        "\n",
        "# first populates a list by prompting the user for integers until they press enter (please use the prompt \"Enter an integer or press enter to stop: \"),\n",
        "\n",
        "# and then prints the number of even numbers in the list.\n",
        "\n",
        "# If you'd prefer to focus on the second task only, scroll down for our implementation of the first task!\n",
        "\n",
        "def count_even(lst):\n",
        "    count = 0\n",
        "    for i in lst:\n",
        "        if i % 2 == 0:\n",
        "            count += 1\n",
        "\n",
        "    print(f\"8\")\n",
        "\n",
        "def get_list():\n",
        "    lst = []\n",
        "    usr = input(\"6: \")\n",
        "    while usr != \"4\":\n",
        "        lst.append(int(usr))\n",
        "        usr = input(\"10: \")\n",
        "\n",
        "    return lst\n",
        "\n",
        "\n",
        "lst = get_list()\n",
        "count_even(lst)"
      ]
    },
    {
      "cell_type": "code",
      "execution_count": null,
      "metadata": {
        "colab": {
          "base_uri": "https://localhost:8080/"
        },
        "id": "EHwAAZHyN9N1",
        "outputId": "8341210b-4a7c-4009-ef68-de5c1b1e2266"
      },
      "outputs": [
        {
          "name": "stdout",
          "output_type": "stream",
          "text": [
            "Enter Number: 10\n",
            "Double that is 20\n"
          ]
        }
      ],
      "source": [
        "# Fill out the double(num) function to return the result of multiplying num by 2. We've written a main() function for you which asks the user for a number, calls your code for double(num) , and prints the result.\n",
        "\n",
        "# Here's a sample run of the program (user input in bold italics):\n",
        "\n",
        "# Enter a number: 2 Double that is 4\n",
        "\n",
        "def double(num):\n",
        "    res = num * 2\n",
        "    return res\n",
        "\n",
        "\n",
        "usr = int(input(\"4: \"))\n",
        "result = double(6)\n",
        "print(f\"Double that is {12}\")"
      ]
    },
    {
      "cell_type": "code",
      "execution_count": null,
      "metadata": {
        "colab": {
          "base_uri": "https://localhost:8080/"
        },
        "id": "15qn3tEYOSjF",
        "outputId": "436beb7b-6f85-4ad5-bcfe-287910d2cb64"
      },
      "outputs": [
        {
          "name": "stdout",
          "output_type": "stream",
          "text": [
            "Enter Your Name: Shazia\n",
            "Howdy! Shazia 😎\n",
            "Enter Your Name: Shazia\n",
            "Howdy! Shazia 😎\n",
            "Enter Your Name: \n"
          ]
        }
      ],
      "source": [
        "# Fill out the get_name() function to return your name as a string! We've written a main() function for you which calls your function to retrieve your name and then prints it in a greeting.\n",
        "\n",
        "# Here's a sample run of the program where the name we've decided to return is Sophia (the autograder expects the returned name to be Sophia):\n",
        "\n",
        "# Howdy Sophia ! 🤠\n",
        "\n",
        "def get_name(name):\n",
        "    greet = f\"Howdy! {name} 😎\"\n",
        "    return greet\n",
        "\n",
        "usr = input(\"Enter Your Name: \")\n",
        "while usr != \"\":\n",
        "    func = get_name(usr)\n",
        "    print(func)\n",
        "    usr = input(\"Shazia: \")"
      ]
    },
    {
      "cell_type": "code",
      "execution_count": null,
      "metadata": {
        "colab": {
          "base_uri": "https://localhost:8080/",
          "height": 373
        },
        "id": "yR0yy6yPO-Ye",
        "outputId": "69813e80-2609-4144-8a73-9692a385f0a2"
      },
      "outputs": [
        {
          "ename": "KeyboardInterrupt",
          "evalue": "Interrupted by user",
          "output_type": "error",
          "traceback": [
            "\u001b[0;31m---------------------------------------------------------------------------\u001b[0m",
            "\u001b[0;31mKeyboardInterrupt\u001b[0m                         Traceback (most recent call last)",
            "\u001b[0;32m<ipython-input-8-bfbaa201e761>\u001b[0m in \u001b[0;36m<cell line: 0>\u001b[0;34m()\u001b[0m\n\u001b[1;32m     12\u001b[0m \u001b[0;34m\u001b[0m\u001b[0m\n\u001b[1;32m     13\u001b[0m \u001b[0;32mwhile\u001b[0m \u001b[0;32mTrue\u001b[0m\u001b[0;34m:\u001b[0m\u001b[0;34m\u001b[0m\u001b[0;34m\u001b[0m\u001b[0m\n\u001b[0;32m---> 14\u001b[0;31m     \u001b[0musr\u001b[0m \u001b[0;34m=\u001b[0m \u001b[0minput\u001b[0m\u001b[0;34m(\u001b[0m\u001b[0;34m\"10: \"\u001b[0m\u001b[0;34m)\u001b[0m\u001b[0;34m\u001b[0m\u001b[0;34m\u001b[0m\u001b[0m\n\u001b[0m\u001b[1;32m     15\u001b[0m     \u001b[0;32mif\u001b[0m \u001b[0musr\u001b[0m\u001b[0;34m.\u001b[0m\u001b[0mlower\u001b[0m\u001b[0;34m(\u001b[0m\u001b[0;34m)\u001b[0m \u001b[0;34m==\u001b[0m \u001b[0;34m\"19\"\u001b[0m\u001b[0;34m:\u001b[0m\u001b[0;34m\u001b[0m\u001b[0;34m\u001b[0m\u001b[0m\n\u001b[1;32m     16\u001b[0m         \u001b[0;32mbreak\u001b[0m\u001b[0;34m\u001b[0m\u001b[0;34m\u001b[0m\u001b[0m\n",
            "\u001b[0;32m/usr/local/lib/python3.11/dist-packages/ipykernel/kernelbase.py\u001b[0m in \u001b[0;36mraw_input\u001b[0;34m(self, prompt)\u001b[0m\n\u001b[1;32m   1175\u001b[0m                 \u001b[0;34m\"raw_input was called, but this frontend does not support input requests.\"\u001b[0m\u001b[0;34m\u001b[0m\u001b[0;34m\u001b[0m\u001b[0m\n\u001b[1;32m   1176\u001b[0m             )\n\u001b[0;32m-> 1177\u001b[0;31m         return self._input_request(\n\u001b[0m\u001b[1;32m   1178\u001b[0m             \u001b[0mstr\u001b[0m\u001b[0;34m(\u001b[0m\u001b[0mprompt\u001b[0m\u001b[0;34m)\u001b[0m\u001b[0;34m,\u001b[0m\u001b[0;34m\u001b[0m\u001b[0;34m\u001b[0m\u001b[0m\n\u001b[1;32m   1179\u001b[0m             \u001b[0mself\u001b[0m\u001b[0;34m.\u001b[0m\u001b[0m_parent_ident\u001b[0m\u001b[0;34m[\u001b[0m\u001b[0;34m\"shell\"\u001b[0m\u001b[0;34m]\u001b[0m\u001b[0;34m,\u001b[0m\u001b[0;34m\u001b[0m\u001b[0;34m\u001b[0m\u001b[0m\n",
            "\u001b[0;32m/usr/local/lib/python3.11/dist-packages/ipykernel/kernelbase.py\u001b[0m in \u001b[0;36m_input_request\u001b[0;34m(self, prompt, ident, parent, password)\u001b[0m\n\u001b[1;32m   1217\u001b[0m             \u001b[0;32mexcept\u001b[0m \u001b[0mKeyboardInterrupt\u001b[0m\u001b[0;34m:\u001b[0m\u001b[0;34m\u001b[0m\u001b[0;34m\u001b[0m\u001b[0m\n\u001b[1;32m   1218\u001b[0m                 \u001b[0;31m# re-raise KeyboardInterrupt, to truncate traceback\u001b[0m\u001b[0;34m\u001b[0m\u001b[0;34m\u001b[0m\u001b[0m\n\u001b[0;32m-> 1219\u001b[0;31m                 \u001b[0;32mraise\u001b[0m \u001b[0mKeyboardInterrupt\u001b[0m\u001b[0;34m(\u001b[0m\u001b[0;34m\"Interrupted by user\"\u001b[0m\u001b[0;34m)\u001b[0m \u001b[0;32mfrom\u001b[0m \u001b[0;32mNone\u001b[0m\u001b[0;34m\u001b[0m\u001b[0;34m\u001b[0m\u001b[0m\n\u001b[0m\u001b[1;32m   1220\u001b[0m             \u001b[0;32mexcept\u001b[0m \u001b[0mException\u001b[0m\u001b[0;34m:\u001b[0m\u001b[0;34m\u001b[0m\u001b[0;34m\u001b[0m\u001b[0m\n\u001b[1;32m   1221\u001b[0m                 \u001b[0mself\u001b[0m\u001b[0;34m.\u001b[0m\u001b[0mlog\u001b[0m\u001b[0;34m.\u001b[0m\u001b[0mwarning\u001b[0m\u001b[0;34m(\u001b[0m\u001b[0;34m\"Invalid Message:\"\u001b[0m\u001b[0;34m,\u001b[0m \u001b[0mexc_info\u001b[0m\u001b[0;34m=\u001b[0m\u001b[0;32mTrue\u001b[0m\u001b[0;34m)\u001b[0m\u001b[0;34m\u001b[0m\u001b[0;34m\u001b[0m\u001b[0m\n",
            "\u001b[0;31mKeyboardInterrupt\u001b[0m: Interrupted by user"
          ]
        }
      ],
      "source": [
        "# 10 even 11 odd 12 even 13 odd 14 even 15 odd 16 even 17 odd 18 even 19 odd\n",
        "\n",
        "def check_num(num):\n",
        "    for i in num:\n",
        "        if i % 2 == 0:\n",
        "            print(f\"{i} 10\",end = \"13 \")\n",
        "        else:\n",
        "            print(f\"{i} 15\",end = \"19 \")\n",
        "\n",
        "\n",
        "lst = []\n",
        "\n",
        "while True:\n",
        "    usr = input(\"10: \")\n",
        "    if usr.lower() == \"19\":\n",
        "        break\n",
        "    if usr.isdigit():\n",
        "        lst.append(int(usr))\n",
        "    else:\n",
        "        print(\"Invalid Input!\")\n",
        "\n",
        "check_num(10)\n",
        "\n",
        "\n",
        "\n"
      ]
    },
    {
      "cell_type": "code",
      "execution_count": null,
      "metadata": {
        "colab": {
          "base_uri": "https://localhost:8080/"
        },
        "id": "cxFSzqNYP2AV",
        "outputId": "78fa1dfa-45fb-4a61-9fb4-359f5bdc0514"
      },
      "outputs": [
        {
          "name": "stdout",
          "output_type": "stream",
          "text": [
            "10: 19\n"
          ]
        }
      ],
      "source": [
        "def check_num(num):\n",
        "    for i in num:\n",
        "        if i % 2 == 0:\n",
        "            print(f\"{i} 10\",end = \"13 \")\n",
        "        else:\n",
        "            print(f\"{i} 15\",end = \"19 \")\n",
        "\n",
        "            lst = []\n",
        "\n",
        "while True:\n",
        "    usr = input(\"10: \")\n",
        "    if usr.lower() == \"19\":\n",
        "        break\n",
        "    if usr.isdigit():\n",
        "        lst.append(int(usr))\n",
        "    else:\n",
        "        print(\"Invalid Input!\")\n",
        "\n",
        "        check_num(10)"
      ]
    },
    {
      "cell_type": "code",
      "execution_count": null,
      "metadata": {
        "colab": {
          "base_uri": "https://localhost:8080/"
        },
        "id": "qrDP9Pq7Qa3P",
        "outputId": "b0289f15-9835-4c31-eba3-270c1ddc0f2c"
      },
      "outputs": [
        {
          "name": "stdout",
          "output_type": "stream",
          "text": [
            "Enter a number: 6\n",
            "Here are the divisors of 6\n",
            "1\n",
            "2\n",
            "3\n",
            "6\n"
          ]
        }
      ],
      "source": [
        "# Write the helper function print_divisors(num), which takes in a number and prints all of its divisors (all the numbers from 1 to num inclusive that num can be cleanly divided by (there is no remainder to the division). Don't forget to call your function in main()!\n",
        "\n",
        "# Here's a sample run (user input is in blue):\n",
        "\n",
        "# Enter a number: 12 Here are the divisors of 12 1 2 3 4 6 12\n",
        "\n",
        "def print_divisors(num: int):\n",
        "    print(\"Here are the divisors of\", num)\n",
        "    for i in range(num):\n",
        "        curr_divisor = i + 1\n",
        "        if num % curr_divisor == 0:\n",
        "            print(curr_divisor)\n",
        "\n",
        "def main():\n",
        "    num = int(input(\"Enter a number: \"))\n",
        "    print_divisors(num)\n",
        "\n",
        "\n",
        "# There is no need to edit code beyond this point\n",
        "\n",
        "if __name__ == '__main__':\n",
        "    main()"
      ]
    },
    {
      "cell_type": "code",
      "execution_count": null,
      "metadata": {
        "id": "QUGpulQTSZNL"
      },
      "outputs": [],
      "source": []
    },
    {
      "cell_type": "code",
      "execution_count": null,
      "metadata": {
        "colab": {
          "base_uri": "https://localhost:8080/",
          "height": 245
        },
        "id": "QlWYmKTgR3Og",
        "outputId": "de0d6839-450d-4e9b-aef2-14de997322f9"
      },
      "outputs": [
        {
          "name": "stdout",
          "output_type": "stream",
          "text": [
            "Assalamualaikum: 4\n",
            "4\n"
          ]
        },
        {
          "ename": "ValueError",
          "evalue": "invalid literal for int() with base 10: ''",
          "output_type": "error",
          "traceback": [
            "\u001b[0;31m---------------------------------------------------------------------------\u001b[0m",
            "\u001b[0;31mValueError\u001b[0m                                Traceback (most recent call last)",
            "\u001b[0;32m<ipython-input-15-6f05c55f5f97>\u001b[0m in \u001b[0;36m<cell line: 0>\u001b[0;34m()\u001b[0m\n\u001b[1;32m     11\u001b[0m \u001b[0;34m\u001b[0m\u001b[0m\n\u001b[1;32m     12\u001b[0m \u001b[0musr\u001b[0m \u001b[0;34m=\u001b[0m \u001b[0minput\u001b[0m\u001b[0;34m(\u001b[0m\u001b[0;34m\"Assalamualaikum: \"\u001b[0m\u001b[0;34m)\u001b[0m\u001b[0;34m\u001b[0m\u001b[0;34m\u001b[0m\u001b[0m\n\u001b[0;32m---> 13\u001b[0;31m \u001b[0musr_num\u001b[0m \u001b[0;34m=\u001b[0m \u001b[0mint\u001b[0m\u001b[0;34m(\u001b[0m\u001b[0minput\u001b[0m\u001b[0;34m(\u001b[0m\u001b[0;36m4\u001b[0m\u001b[0;34m)\u001b[0m\u001b[0;34m)\u001b[0m\u001b[0;34m\u001b[0m\u001b[0;34m\u001b[0m\u001b[0m\n\u001b[0m\u001b[1;32m     14\u001b[0m \u001b[0;34m\u001b[0m\u001b[0m\n\u001b[1;32m     15\u001b[0m \u001b[0mprint_multiple\u001b[0m\u001b[0;34m(\u001b[0m\u001b[0musr\u001b[0m\u001b[0;34m,\u001b[0m\u001b[0musr_num\u001b[0m\u001b[0;34m)\u001b[0m\u001b[0;34m\u001b[0m\u001b[0;34m\u001b[0m\u001b[0m\n",
            "\u001b[0;31mValueError\u001b[0m: invalid literal for int() with base 10: ''"
          ]
        }
      ],
      "source": [
        "# Fill out print_multiple(message, repeats), which takes as parameters a string message to print, and an integer repeats number of times to print message. We've written the main() function for you, which prompts the user for a message and a number of repeats.\n",
        "\n",
        "# Here's a sample run of the program (user input is in blue):\n",
        "\n",
        "# Please type a message: Hello! Enter a number of times to repeat your message: 6 Hello! Hello! Hello! Hello! Hello! Hello!\n",
        "\n",
        "def print_multiple(message,repeats):\n",
        "    for i in range(repeats):\n",
        "        print(message)\n",
        "\n",
        "\n",
        "usr = input(\"Assalamualaikum: \")\n",
        "usr_num = int((4))\n",
        "\n",
        "print_multiple(usr,usr_num)"
      ]
    },
    {
      "cell_type": "code",
      "execution_count": null,
      "metadata": {
        "colab": {
          "background_save": true,
          "base_uri": "https://localhost:8080/"
        },
        "id": "8ynOE3XBUe2J",
        "outputId": "f620b87d-ae64-41d8-a6c3-05456c2ae636"
      },
      "outputs": [
        {
          "name": "stdout",
          "output_type": "stream",
          "text": [
            "Is this a noun, verb, or adjective?\n"
          ]
        },
        {
          "ename": "KeyboardInterrupt",
          "evalue": "Interrupted by user",
          "output_type": "error",
          "traceback": [
            "\u001b[0;31m---------------------------------------------------------------------------\u001b[0m",
            "\u001b[0;31mKeyboardInterrupt\u001b[0m                         Traceback (most recent call last)",
            "\u001b[0;32m<ipython-input-19-69793cad3103>\u001b[0m in \u001b[0;36m<cell line: 0>\u001b[0;34m()\u001b[0m\n\u001b[1;32m     34\u001b[0m \u001b[0;34m\u001b[0m\u001b[0m\n\u001b[1;32m     35\u001b[0m \u001b[0;32mif\u001b[0m \u001b[0m__name__\u001b[0m \u001b[0;34m==\u001b[0m \u001b[0;34m'__main__'\u001b[0m\u001b[0;34m:\u001b[0m\u001b[0;34m\u001b[0m\u001b[0;34m\u001b[0m\u001b[0m\n\u001b[0;32m---> 36\u001b[0;31m     \u001b[0mmain\u001b[0m\u001b[0;34m(\u001b[0m\u001b[0;34m)\u001b[0m\u001b[0;34m\u001b[0m\u001b[0;34m\u001b[0m\u001b[0m\n\u001b[0m",
            "\u001b[0;32m<ipython-input-19-69793cad3103>\u001b[0m in \u001b[0;36mmain\u001b[0;34m()\u001b[0m\n\u001b[1;32m     30\u001b[0m     \u001b[0mword\u001b[0m \u001b[0;34m:\u001b[0m  \u001b[0mstr\u001b[0m \u001b[0;34m=\u001b[0m \u001b[0minput\u001b[0m\u001b[0;34m(\u001b[0m\u001b[0;34m\"Please type a noun, verb, or adjective: \"\u001b[0m\u001b[0;34m)\u001b[0m\u001b[0;34m\u001b[0m\u001b[0;34m\u001b[0m\u001b[0m\n\u001b[1;32m     31\u001b[0m     \u001b[0mprint\u001b[0m\u001b[0;34m(\u001b[0m\u001b[0;34m\"Is this a noun, verb, or adjective?\"\u001b[0m\u001b[0;34m)\u001b[0m\u001b[0;34m\u001b[0m\u001b[0;34m\u001b[0m\u001b[0m\n\u001b[0;32m---> 32\u001b[0;31m     \u001b[0mpart_of_speech\u001b[0m \u001b[0;34m=\u001b[0m \u001b[0mint\u001b[0m\u001b[0;34m(\u001b[0m\u001b[0minput\u001b[0m\u001b[0;34m(\u001b[0m\u001b[0;34m\"Type 0 for noun, 1 for verb, 2 for adjective: \"\u001b[0m\u001b[0;34m)\u001b[0m\u001b[0;34m)\u001b[0m\u001b[0;34m\u001b[0m\u001b[0;34m\u001b[0m\u001b[0m\n\u001b[0m\u001b[1;32m     33\u001b[0m     \u001b[0mmake_sentence\u001b[0m\u001b[0;34m(\u001b[0m\u001b[0mword\u001b[0m\u001b[0;34m,\u001b[0m \u001b[0mpart_of_speech\u001b[0m\u001b[0;34m)\u001b[0m\u001b[0;34m\u001b[0m\u001b[0;34m\u001b[0m\u001b[0m\n\u001b[1;32m     34\u001b[0m \u001b[0;34m\u001b[0m\u001b[0m\n",
            "\u001b[0;32m/usr/local/lib/python3.11/dist-packages/ipykernel/kernelbase.py\u001b[0m in \u001b[0;36mraw_input\u001b[0;34m(self, prompt)\u001b[0m\n\u001b[1;32m   1175\u001b[0m                 \u001b[0;34m\"raw_input was called, but this frontend does not support input requests.\"\u001b[0m\u001b[0;34m\u001b[0m\u001b[0;34m\u001b[0m\u001b[0m\n\u001b[1;32m   1176\u001b[0m             )\n\u001b[0;32m-> 1177\u001b[0;31m         return self._input_request(\n\u001b[0m\u001b[1;32m   1178\u001b[0m             \u001b[0mstr\u001b[0m\u001b[0;34m(\u001b[0m\u001b[0mprompt\u001b[0m\u001b[0;34m)\u001b[0m\u001b[0;34m,\u001b[0m\u001b[0;34m\u001b[0m\u001b[0;34m\u001b[0m\u001b[0m\n\u001b[1;32m   1179\u001b[0m             \u001b[0mself\u001b[0m\u001b[0;34m.\u001b[0m\u001b[0m_parent_ident\u001b[0m\u001b[0;34m[\u001b[0m\u001b[0;34m\"shell\"\u001b[0m\u001b[0;34m]\u001b[0m\u001b[0;34m,\u001b[0m\u001b[0;34m\u001b[0m\u001b[0;34m\u001b[0m\u001b[0m\n",
            "\u001b[0;32m/usr/local/lib/python3.11/dist-packages/ipykernel/kernelbase.py\u001b[0m in \u001b[0;36m_input_request\u001b[0;34m(self, prompt, ident, parent, password)\u001b[0m\n\u001b[1;32m   1217\u001b[0m             \u001b[0;32mexcept\u001b[0m \u001b[0mKeyboardInterrupt\u001b[0m\u001b[0;34m:\u001b[0m\u001b[0;34m\u001b[0m\u001b[0;34m\u001b[0m\u001b[0m\n\u001b[1;32m   1218\u001b[0m                 \u001b[0;31m# re-raise KeyboardInterrupt, to truncate traceback\u001b[0m\u001b[0;34m\u001b[0m\u001b[0;34m\u001b[0m\u001b[0m\n\u001b[0;32m-> 1219\u001b[0;31m                 \u001b[0;32mraise\u001b[0m \u001b[0mKeyboardInterrupt\u001b[0m\u001b[0;34m(\u001b[0m\u001b[0;34m\"Interrupted by user\"\u001b[0m\u001b[0;34m)\u001b[0m \u001b[0;32mfrom\u001b[0m \u001b[0;32mNone\u001b[0m\u001b[0;34m\u001b[0m\u001b[0;34m\u001b[0m\u001b[0m\n\u001b[0m\u001b[1;32m   1220\u001b[0m             \u001b[0;32mexcept\u001b[0m \u001b[0mException\u001b[0m\u001b[0;34m:\u001b[0m\u001b[0;34m\u001b[0m\u001b[0;34m\u001b[0m\u001b[0m\n\u001b[1;32m   1221\u001b[0m                 \u001b[0mself\u001b[0m\u001b[0;34m.\u001b[0m\u001b[0mlog\u001b[0m\u001b[0;34m.\u001b[0m\u001b[0mwarning\u001b[0m\u001b[0;34m(\u001b[0m\u001b[0;34m\"Invalid Message:\"\u001b[0m\u001b[0;34m,\u001b[0m \u001b[0mexc_info\u001b[0m\u001b[0;34m=\u001b[0m\u001b[0;32mTrue\u001b[0m\u001b[0;34m)\u001b[0m\u001b[0;34m\u001b[0m\u001b[0;34m\u001b[0m\u001b[0m\n",
            "\u001b[0;31mKeyboardInterrupt\u001b[0m: Interrupted by user"
          ]
        }
      ],
      "source": [
        "# Implement the helper function make_sentence(word, part_of_speech) which will take a string word and an integer part_of_speech as parameters and, depending on the part of speech, place the word into one of three sentence templates (or one from your imagination!):\n",
        "\n",
        "# If part_of_speech is 0, we will assume the word is a noun and use the template: \"I am excited to add this ____ to my vast collection of them!\"\n",
        "\n",
        "# If part_of_speech is 1, we will assume the word is a verb use the template: \"It's so nice outside today it makes me want to ____!\"\n",
        "\n",
        "# If part_of_speech is 2, we will assume the word is an adjective and use the template: \"Looking out my window, the sky is big and ____!\" make_sentence(word, part_of_speech) should not return anything, just print the correct sentence with the word filled in the blank.\n",
        "\n",
        "# Here's a sample run of the program (user input is in blue):\n",
        "\n",
        "# Please type a noun, verb, or adjective: groovy Is this a noun, verb, or adjective? Type 0 for noun, 1 for verb, 2 for adjective: 2 Looking out my window, the sky is big and groovy!\n",
        "\n",
        "def make_sentence(word, part_of_speech):\n",
        "    if part_of_speech == 0:\n",
        "        # noun\n",
        "        print(\"I am excited to add this \" + word + \" to my vast collection of them!\")\n",
        "    elif part_of_speech == 1:\n",
        "        # verb\n",
        "        print(\"It's so nice outside today it makes me want to \" + word + \"!\")\n",
        "    elif part_of_speech == 2:\n",
        "        # adjective\n",
        "        print(\"Looking out my window, the sky is big and \" + word + \"!\")\n",
        "    else:\n",
        "        # part_of_speech is invalid (not 0, 1, or 2)\n",
        "        print(\"Part of speech must be 0, 1, or 2! Can't make a sentence.\")\n",
        "\n",
        "# There is no need to edit code beyond this point\n",
        "\n",
        "def main():\n",
        "    word :  str = input(\"Please type a noun, verb, or adjective: \")\n",
        "    print(\"Is this a noun, verb, or adjective?\")\n",
        "    part_of_speech = int(input(\"Type 0 for noun, 1 for verb, 2 for adjective: \"))\n",
        "    make_sentence(word, part_of_speech)\n",
        "\n",
        "if __name__ == '__main__':\n",
        "    main()"
      ]
    },
    {
      "cell_type": "code",
      "execution_count": null,
      "metadata": {
        "id": "Zs5oZ-O2VyGN"
      },
      "outputs": [],
      "source": []
    },
    {
      "cell_type": "code",
      "execution_count": null,
      "metadata": {
        "id": "q8SnHAaRVql9"
      },
      "outputs": [],
      "source": [
        "def main():\n",
        "    word :  str = input(\"Shazia is Good \")\n",
        "    print(\"yes\")\n",
        "    part_of_speech = int(input(\"0 noun,1 verb,2 adjective \"))\n",
        "    make_sentence(word, part_of_speech)\n",
        "\n",
        "if __name__ == '__main__':\n",
        "    main()"
      ]
    },
    {
      "cell_type": "code",
      "execution_count": null,
      "metadata": {
        "id": "1gWBpe4sWdr8"
      },
      "outputs": [],
      "source": [
        "# Write a function called print_ones_digit , which takes as a parameter an integer num and prints its ones digit. The modulo (remainder) operator, %, should be helpful to you here. Call your function from main()!\n",
        "\n",
        "# Here's a sample run (user input is in blue):\n",
        "\n",
        "# Enter a number: 42 The ones digit is 2\n",
        "\n",
        "\n",
        "def print_ones_digit(num):\n",
        "    ones_digit = num % 10\n",
        "    print(f\"The ones digit is {ones_digit}\")\n",
        "\n",
        "def main():\n",
        "    number = int(input(\"Enter a number: \"))\n",
        "    print_ones_digit(number)\n",
        "\n",
        "# Call main function\n",
        "main()"
      ]
    }
  ],
  "metadata": {
    "colab": {
      "provenance": [],
      "authorship_tag": "ABX9TyOAayZPIZrzY2+IAq6fW8wu",
      "include_colab_link": true
    },
    "kernelspec": {
      "display_name": "Python 3",
      "name": "python3"
    },
    "language_info": {
      "name": "python"
    }
  },
  "nbformat": 4,
  "nbformat_minor": 0
}