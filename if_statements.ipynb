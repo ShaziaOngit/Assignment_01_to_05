{
  "cells": [
    {
      "cell_type": "markdown",
      "metadata": {
        "id": "view-in-github",
        "colab_type": "text"
      },
      "source": [
        "<a href=\"https://colab.research.google.com/github/ShaziaOngit/Assignment_01_to_05/blob/main/if_statements.ipynb\" target=\"_parent\"><img src=\"https://colab.research.google.com/assets/colab-badge.svg\" alt=\"Open In Colab\"/></a>"
      ]
    },
    {
      "cell_type": "code",
      "execution_count": null,
      "metadata": {
        "colab": {
          "base_uri": "https://localhost:8080/"
        },
        "id": "S_VfQ_x3bOHw",
        "outputId": "91e148ac-6511-4970-db0e-a8bd263f8d65"
      },
      "outputs": [
        {
          "name": "stdout",
          "output_type": "stream",
          "text": [
            "0\n",
            "2\n",
            "4\n",
            "6\n",
            "8\n",
            "10\n",
            "12\n",
            "14\n",
            "16\n",
            "18\n",
            "20\n",
            "22\n",
            "24\n",
            "26\n",
            "28\n",
            "30\n",
            "32\n",
            "34\n",
            "36\n",
            "38\n"
          ]
        }
      ],
      "source": [
        "# Write a program that prints the first 20 even numbers. There are several correct approaches, but they all use a loop of some sort. Do no write twenty print statements\n",
        "\n",
        "# The first even number is 0:\n",
        "\n",
        "# 0 2 4 6 8 10 12 14 16 18 20 22 24 26 28 30 32 34 36 38\n",
        "\n",
        "for i in range(20):\n",
        "    print(i * 2)"
      ]
    },
    {
      "cell_type": "code",
      "execution_count": null,
      "metadata": {
        "colab": {
          "base_uri": "https://localhost:8080/"
        },
        "id": "26r97tu0bz1z",
        "outputId": "4016c1cf-fead-4108-ecf4-22274d4ada04"
      },
      "outputs": [
        {
          "name": "stdout",
          "output_type": "stream",
          "text": [
            "How old are you? 48\n",
            "You can vote in Peturksbouipo where the voting age is 16.\n",
            "You can vote in Stanlau where the voting age is 25.\n",
            "You can vote in Mayengua where the voting age is 48.\n"
          ]
        }
      ],
      "source": [
        "# Write a program which asks a user for their age and lets them know if they can or can't vote in the following three fictional countries.\n",
        "\n",
        "# Around the world, different countries have different voting ages. In the fictional countries of Peturksbouipo, Stanlau, and Mayengua, the voting ages are very different:\n",
        "\n",
        "# the voting age in Peturksbouipo is 16 (in real life, this is the voting age in, for example, Scotland, Ethiopia, and Austria)\n",
        "\n",
        "# the voting age in Stanlau is 25 (in real life this is the voting age in the United Arab Emirates)\n",
        "\n",
        "# the voting age in Mayengua is 48 (in real life, as far as we can tell, this isn't the voting age anywhere)\n",
        "\n",
        "# Your code should prompt the for their age and print whether or not they can vote in Peturksbouipo, Stanlau, or Mayengua.\n",
        "\n",
        "# Here's a sample run of the program (user input is in blue):\n",
        "\n",
        "# How old are you? 20 You can vote in Peturksbouipo where the voting age is 16. You cannot vote in Stanlau where the voting age is 25. You cannot vote in Mayengua where the voting age is 48.\n",
        "\n",
        "Peturksbouipo = 16\n",
        "Stanlau = 25\n",
        "Mayengua = 48\n",
        "\n",
        "usr_inp = int(input(\"48 \"))\n",
        "\n",
        "if usr_inp >= Peturksbouipo:\n",
        "    print(f\"You can vote in Peturksbouipo where the voting age is {Peturksbouipo}.\")\n",
        "else:\n",
        "    print(f\"You can not vote in Peturksbouipo where the voting age is {Peturksbouipo}.\")\n",
        "\n",
        "if usr_inp >= Stanlau:\n",
        "    print(f\"You can vote in Stanlau where the voting age is {Stanlau}.\")\n",
        "else:\n",
        "    print(f\"You can not vote in Stanlau where the voting age is {Stanlau}.\")\n",
        "\n",
        "if usr_inp >= Mayengua:\n",
        "    print(f\"You can vote in Mayengua where the voting age is {Mayengua}.\")\n",
        "else:\n",
        "    print(f\"You can not vote in Mayengua where the voting age is {Mayengua}.\")"
      ]
    },
    {
      "cell_type": "code",
      "execution_count": null,
      "metadata": {
        "colab": {
          "base_uri": "https://localhost:8080/"
        },
        "id": "qgF68ahPdJmm",
        "outputId": "63507b53-53d4-4a8d-a9d6-1838f1099ce2"
      },
      "outputs": [
        {
          "name": "stdout",
          "output_type": "stream",
          "text": [
            "Enter Year: 2025\n",
            "Its Not Leap Year!\n"
          ]
        }
      ],
      "source": [
        "# Write a program that reads a year from the user and tells whether a given year is a leap year or not.\n",
        "\n",
        "# A leap year (also known as an intercalary year or bissextile year) is a calendar year that contains an additional day (or, in the case of a lunisolar calendar, a month) added to keep the calendar year synchronized with the astronomical year or seasonal year. In the Gregorian calendar, each leap year has 366 days instead of 365, by extending February to 29 days rather than the common 28.\n",
        "\n",
        "# In the Gregorian calendar, three criteria must be checked to identify leap years:\n",
        "\n",
        "# The given year must be evenly divisible by 4;\n",
        "# If the year can also be evenly divided by 100, it is NOT a leap year; unless:\n",
        "# The year is also evenly divisible by 400. Then it is a leap year.\n",
        "# Your code should use the above criteria to check for a leap year and then print either \"That's a leap year!\" or \"That's not a leap year.\"\n",
        "\n",
        "usr_inp = int(input(\"Enter Year: \"))\n",
        "\n",
        "if usr_inp % 4 == 0:\n",
        "    if usr_inp % 100 == 0:\n",
        "        if usr_inp % 400 == 0:\n",
        "            print(\"Its Leap Year!\")\n",
        "        else:\n",
        "            print(\"Its Not Leap Year!\")\n",
        "    else:\n",
        "        print(\"Its Leap Year!\")\n",
        "else:\n",
        "    print(\"Its Not Leap Year!\")"
      ]
    },
    {
      "cell_type": "code",
      "execution_count": null,
      "metadata": {
        "colab": {
          "background_save": true,
          "base_uri": "https://localhost:8080/"
        },
        "id": "PJ6bdzKfd5UD",
        "outputId": "697ce4f4-1926-474f-8078-04b0b93adcce"
      },
      "outputs": [
        {
          "metadata": {
            "tags": null
          },
          "name": "stdout",
          "output_type": "stream",
          "text": [
            "\n",
            "You're not tall enough to ride, but maybe next year!\n",
            "\n",
            "\n",
            "You're not tall enough to ride, but maybe next year!\n",
            "\n"
          ]
        }
      ],
      "source": [
        "# Write a program which asks the user how tall they are and prints whether or not they're taller than a pre-specified minimum height.\n",
        "\n",
        "# In amusement parks (ah, the good old pre-pandemic days...), rollercoasters frequently have minimum height requirements for safety reasons. Assume for now that the minimum height is 50 of whatever height unit you'd like\n",
        "\n",
        "# Here's two sample runs (user input is in bold italics):\n",
        "\n",
        "# How tall are you? 100\n",
        "\n",
        "# You're tall enough to ride!\n",
        "\n",
        "# How tall are you? 10\n",
        "\n",
        "# You're not tall enough to ride, but maybe next year!\n",
        "\n",
        "# # (For an extra challenge, write code which will repeatedly ask a user how tall they are and tell them whether or not they're tall enough to ride, until the user doesn't enter a height at all, in which case the program stops. Curious about how to do this? See the function tall_enough_extension() in the solution code!)\n",
        "\n",
        "def tall_enough_extension():\n",
        "    while True:\n",
        "        usr_inp = int(input(\"How tall are you? \"))\n",
        "        if usr_inp >= 100:\n",
        "            print(\"\\nYou're tall enough to ride!\\n\")\n",
        "            break\n",
        "        elif usr_inp >= 50:\n",
        "            print(\"\\nYou're tall enough to ride!\\n\")\n",
        "            break\n",
        "        elif usr_inp < 50:\n",
        "            print(\"\\nYou're not tall enough to ride, but maybe next year!\\n\")\n",
        "\n",
        "tall_enough_extension()"
      ]
    },
    {
      "cell_type": "code",
      "execution_count": null,
      "metadata": {
        "id": "FQsqNwpXeQii"
      },
      "outputs": [],
      "source": [
        "# Print 10 random numbers in the range 1 to 100.\n",
        "\n",
        "# Here is an example run:\n",
        "\n",
        "# 45 79 61 47 52 10 16 83 19 12\n",
        "\n",
        "# Each time you run your program you should get different numbers\n",
        "\n",
        "# 81 76 70 1 27 63 96 100 32 92\n",
        "\n",
        "# Recall that the python random library has a function randint which returns an integer in the range set by the parameters (inclusive). For example this call would produce a random integer between 1 and 6, which could include 1 and could include 6:\n",
        "\n",
        "# value = random.randint(1, 6)\n",
        "import random\n",
        "\n",
        "N_NUMBERS : int = 10\n",
        "MIN_VALUE : int = 1\n",
        "MAX_VALUE : int = 100\n",
        "\n",
        "for i in range(N_NUMBERS):\n",
        "    value = random.randint(1,100)\n",
        "    print(value,end=' ')"
      ]
    },
    {
      "cell_type": "code",
      "execution_count": null,
      "metadata": {
        "id": "VGLptNnhe8CO"
      },
      "outputs": [],
      "source": [
        "# There are times where we want to return different things from a function based on some condition. To practice this idea, imagine that we want to check if someone is an adult. We might check their age and return different things depending on how old they are!\n",
        "\n",
        "# We've provided you with the ADULT_AGE variable which has the age a person is legally classified as an adult (in the United States). Fill out the is_adult(age) function, which returns True if the function takes an age that is greater than or equal to ADULT_AGE. If the function takes an age less than ADULT_AGE, return False instead.\n",
        "\n",
        "# Here are two sample runs of the program, one for each return option (user input in bold italics):\n",
        "\n",
        "# (Entered age is an adult age)\n",
        "\n",
        "# How old is this person?: 35\n",
        "\n",
        "# True\n",
        "\n",
        "# (Entered age is not an adult age)\n",
        "\n",
        "# How old is this person?: 7\n",
        "\n",
        "# False\n",
        "\n",
        "ADULT_AGE : int = 18 # U.S. age\n",
        "\n",
        "def is_adult(age: int):\n",
        "    if age >= ADULT_AGE:\n",
        "        return True\n",
        "\n",
        "    return False\n",
        "\n",
        "########## No need to edit code beyond this point :) ##########\n",
        "\n",
        "def main():\n",
        "    age : str = int(input(\"How old is this person?: \"))\n",
        "    print(is_adult(age))\n",
        "\n",
        "\n",
        "if __name__ == \"__main__\":\n",
        "    main()"
      ]
    },
    {
      "cell_type": "code",
      "execution_count": null,
      "metadata": {
        "id": "urwbU-hIfJie"
      },
      "outputs": [],
      "source": [
        "# We've written a helper function for you called greet(name) which takes as input a string name and prints a greeting. Write some code in main() to get the user's name and then greet them, being sure to call the greet(name) helper function.\n",
        "\n",
        "# Here's a sample run of the program (user input in bold italics):\n",
        "\n",
        "# What's your name? Sophia\n",
        "\n",
        "# Greetings Sophia!\n",
        "\n",
        "def greet(name):\n",
        "    print(f\"Greetings {name}\")\n",
        "\n",
        "usr = input(\"What's your name? \")\n",
        "\n",
        "greet(usr)"
      ]
    },
    {
      "cell_type": "code",
      "execution_count": null,
      "metadata": {
        "id": "Nc_d4wijfbpA"
      },
      "outputs": [],
      "source": [
        "# Implement the following function which takes in 3 integers as parameters:\n",
        "\n",
        "# def in_range(n, low, high) \"\"\" Returns True if n is between low and high, inclusive. high is guaranteed to be greater than low. \"\"\"\n",
        "\n",
        "def in_range(n, low, high):\n",
        "    \"\"\"\n",
        "    Returns True if n is between low and high, inclusive.\n",
        "    high is guaranteed to be greater than low.\n",
        "    \"\"\"\n",
        "    if n >= low and n <= high:\n",
        "        return True\n",
        "\n",
        "    # we could have also included an else statement, but since we are returning, it's fine without!\n",
        "    return False\n",
        "\n",
        "print(in_range(5, 1, 10))   # Output: True\n",
        "print(in_range(15, 1, 10))  # Output: False"
      ]
    },
    {
      "cell_type": "code",
      "execution_count": null,
      "metadata": {
        "id": "YJTvH0FufvNM"
      },
      "outputs": [],
      "source": [
        "# Sophia has a fruit store. She has written a function num_in_stock which takes a string fruit as a parameter and returns how many of that fruit are in her inventory. Write code in main() which will:\n",
        "\n",
        "# Prompt the user to enter a fruit (\"Enter a fruit: \")\n",
        "\n",
        "# Call num_in_stock(fruit) to get the number of that fruit that Sophia has in stock\n",
        "\n",
        "# Print the number which are in stock if Sophia has that fruit in her inventory (there are more than 0 in stock)\n",
        "\n",
        "# Print \"This fruit is not in stock.\" if Sophia has none of that fruit in her inventory.\n",
        "\n",
        "# Here's two sample runs of the program (user input in bold italics):\n",
        "\n",
        "# Enter a fruit: pear\n",
        "\n",
        "# This fruit is in stock! Here is how many:\n",
        "\n",
        "# 1000\n",
        "\n",
        "# Enter a fruit: lychee\n",
        "\n",
        "# This fruit is not in stock.\n",
        "\n",
        "\n",
        "def num_in_stock(fruit):\n",
        "\n",
        "    if fruit == 'apple':\n",
        "        return 2\n",
        "    if fruit == 'durian':\n",
        "        return 4\n",
        "    if fruit == 'pear':\n",
        "        return 1000\n",
        "    else:\n",
        "        # this fruit is not in stock.\n",
        "        return 0\n",
        "\n",
        "usr = input(\"Enter a Fruit: \")\n",
        "stock = num_in_stock(usr)\n",
        "\n",
        "if stock == 0:\n",
        "    print(\"This fruit is not in stock.\")\n",
        "else:\n",
        "    print(\"This fruit is in stock! Here is how many:\")\n",
        "    print(stock)"
      ]
    }
  ],
  "metadata": {
    "colab": {
      "provenance": [],
      "authorship_tag": "ABX9TyMRQC9809zmpVof6VNvQ1tf",
      "include_colab_link": true
    },
    "kernelspec": {
      "display_name": "Python 3",
      "name": "python3"
    },
    "language_info": {
      "name": "python"
    }
  },
  "nbformat": 4,
  "nbformat_minor": 0
}