{
  "nbformat": 4,
  "nbformat_minor": 0,
  "metadata": {
    "colab": {
      "provenance": [],
      "authorship_tag": "ABX9TyNrMldQEzGsQUGggAXCQIMi",
      "include_colab_link": true
    },
    "kernelspec": {
      "name": "python3",
      "display_name": "Python 3"
    },
    "language_info": {
      "name": "python"
    }
  },
  "cells": [
    {
      "cell_type": "markdown",
      "metadata": {
        "id": "view-in-github",
        "colab_type": "text"
      },
      "source": [
        "<a href=\"https://colab.research.google.com/github/ShaziaOngit/Assignment_01_to_05/blob/main/tuples_Dict_List_.ipynb\" target=\"_parent\"><img src=\"https://colab.research.google.com/assets/colab-badge.svg\" alt=\"Open In Colab\"/></a>"
      ]
    },
    {
      "cell_type": "code",
      "execution_count": null,
      "metadata": {
        "id": "g5UHqAv4kjZ_"
      },
      "outputs": [],
      "source": [
        "\"Tuples\"\n"
      ]
    },
    {
      "cell_type": "code",
      "source": [
        "# Note : In case of list, we use square\n",
        "# brackets []. Here we use round brackets ()\n",
        "tup = (10, 20, 30)\n",
        "\n",
        "print(tup)\n",
        "print(type(tup))\n"
      ],
      "metadata": {
        "colab": {
          "base_uri": "https://localhost:8080/"
        },
        "id": "6mggS25rlvKx",
        "outputId": "c6b5180d-7eb3-4200-f700-42221be75119"
      },
      "execution_count": null,
      "outputs": [
        {
          "output_type": "stream",
          "name": "stdout",
          "text": [
            "(10, 20, 30)\n",
            "<class 'tuple'>\n"
          ]
        }
      ]
    },
    {
      "cell_type": "code",
      "source": [
        "tup = (1, 2, 3, 4, 2, 3)\n",
        "# Create a new tuple with the modified element\n",
        "new_tup = tup[:1] + (100,) + tup[2:]\n",
        "print(new_tup)  # Output: (1, 100, 3, 4, 2, 3)\n",
        "\n",
        "my_list = [1, 2, 3, 4, 2, 3]\n",
        "my_list[1] = 100\n",
        "print(my_list)  # Output: [1, 100, 3, 4, 2, 3]"
      ],
      "metadata": {
        "colab": {
          "base_uri": "https://localhost:8080/"
        },
        "id": "DypFCrUyo08d",
        "outputId": "b13175df-f93a-4b79-cbea-f92cc60916d8"
      },
      "execution_count": null,
      "outputs": [
        {
          "output_type": "stream",
          "name": "stdout",
          "text": [
            "(1, 100, 3, 4, 2, 3)\n",
            "[1, 100, 3, 4, 2, 3]\n"
          ]
        }
      ]
    },
    {
      "cell_type": "code",
      "source": [
        "tup = (10, 5, 20)\n",
        "\n",
        "print(\"Value in tup[0] = \", tup[0])\n",
        "print(\"Value in tup[1] = \", tup[1])\n",
        "print(\"Value in tup[2] = \", tup[2])\n"
      ],
      "metadata": {
        "colab": {
          "base_uri": "https://localhost:8080/"
        },
        "id": "HNwPZpd2pK6c",
        "outputId": "d1b32923-d4d7-44c0-f883-73134948f6b6"
      },
      "execution_count": null,
      "outputs": [
        {
          "output_type": "stream",
          "name": "stdout",
          "text": [
            "Value in tup[0] =  10\n",
            "Value in tup[1] =  5\n",
            "Value in tup[2] =  20\n"
          ]
        }
      ]
    },
    {
      "cell_type": "code",
      "source": [
        "tup = (10, 5, 20)\n",
        "\n",
        "print(\"Value in tup[-1] = \", tup[-1])\n",
        "print(\"Value in tup[-2] = \", tup[-2])\n",
        "print(\"Value in tup[-3] = \", tup[-3])\n"
      ],
      "metadata": {
        "colab": {
          "base_uri": "https://localhost:8080/"
        },
        "id": "pR5cthGlpiB8",
        "outputId": "f1d9a170-9810-4665-84bf-9711252d035b"
      },
      "execution_count": null,
      "outputs": [
        {
          "output_type": "stream",
          "name": "stdout",
          "text": [
            "Value in tup[-1] =  20\n",
            "Value in tup[-2] =  5\n",
            "Value in tup[-3] =  10\n"
          ]
        }
      ]
    },
    {
      "cell_type": "code",
      "source": [
        "# Define a tuple\n",
        "tup = (1, 2, 3, 4, 5)\n",
        "\n",
        "# Traverse through each item in the tuple\n",
        "for x in tup:\n",
        "    print(x, end=\" \")\n"
      ],
      "metadata": {
        "colab": {
          "base_uri": "https://localhost:8080/"
        },
        "id": "4o4Dqmgnp5Jm",
        "outputId": "d76b689f-3a85-430a-ac93-f68846575eab"
      },
      "execution_count": null,
      "outputs": [
        {
          "output_type": "stream",
          "name": "stdout",
          "text": [
            "1 2 3 4 5 "
          ]
        }
      ]
    },
    {
      "cell_type": "code",
      "source": [
        "# Code for concatenating 2 tuples\n",
        "tup1 = (0, 1, 2, 3)\n",
        "tup2 = ('python', 'geek')\n",
        "\n",
        "# Concatenating above two\n",
        "print(tup1 + tup2)\n"
      ],
      "metadata": {
        "colab": {
          "base_uri": "https://localhost:8080/"
        },
        "id": "buLbbmDOqBoi",
        "outputId": "41deea2c-1955-40dc-8f31-035612762294"
      },
      "execution_count": null,
      "outputs": [
        {
          "output_type": "stream",
          "name": "stdout",
          "text": [
            "(0, 1, 2, 3, 'python', 'geek')\n"
          ]
        }
      ]
    },
    {
      "cell_type": "code",
      "source": [
        "# Code to create a tuple with repetition\n",
        "tup = ('python',)*3\n",
        "print(tup)\n"
      ],
      "metadata": {
        "colab": {
          "base_uri": "https://localhost:8080/"
        },
        "id": "hAXrVeB1qKYJ",
        "outputId": "bbe17e32-37fd-4cc7-ea98-e6388c528623"
      },
      "execution_count": null,
      "outputs": [
        {
          "output_type": "stream",
          "name": "stdout",
          "text": [
            "('python', 'python', 'python')\n"
          ]
        }
      ]
    },
    {
      "cell_type": "code",
      "source": [
        "# code to test slicing\n",
        "tup = (0 ,1, 2, 3)\n",
        "\n",
        "print(tup[1:])\n",
        "print(tup[::-1])\n",
        "print(tup[2:4])\n"
      ],
      "metadata": {
        "colab": {
          "base_uri": "https://localhost:8080/"
        },
        "id": "SkOVS7eSqR_P",
        "outputId": "16f9bd6d-560b-4963-e222-325579635d45"
      },
      "execution_count": null,
      "outputs": [
        {
          "output_type": "stream",
          "name": "stdout",
          "text": [
            "(1, 2, 3)\n",
            "(3, 2, 1, 0)\n",
            "(2, 3)\n"
          ]
        }
      ]
    },
    {
      "cell_type": "code",
      "source": [
        "tup = (0, 1)\n",
        "#del tup # This line is commented out to prevent the deletion of the tuple\n",
        "print(tup) # This will now successfully print the tuple (0, 1) because it still exists"
      ],
      "metadata": {
        "colab": {
          "base_uri": "https://localhost:8080/"
        },
        "id": "KjprKUWoq25Q",
        "outputId": "fbea8411-6a6e-4fb4-8b7b-ef333848a3c5"
      },
      "execution_count": null,
      "outputs": [
        {
          "output_type": "stream",
          "name": "stdout",
          "text": [
            "(0, 1)\n"
          ]
        }
      ]
    },
    {
      "cell_type": "code",
      "source": [
        "# Code for printing the length of a tuple\n",
        "tup = ('python', 'geek')\n",
        "print(len(tup))\n"
      ],
      "metadata": {
        "colab": {
          "base_uri": "https://localhost:8080/"
        },
        "id": "k2Fu4usQrL4e",
        "outputId": "2621ae84-160c-41d3-f70a-2dc2e5dd395b"
      },
      "execution_count": null,
      "outputs": [
        {
          "output_type": "stream",
          "name": "stdout",
          "text": [
            "2\n"
          ]
        }
      ]
    },
    {
      "cell_type": "code",
      "source": [
        "# tuple with different datatypes\n",
        "tup = (\"immutable\", True, 23)\n",
        "print(tup)\n"
      ],
      "metadata": {
        "colab": {
          "base_uri": "https://localhost:8080/"
        },
        "id": "I3UUKjejrYq3",
        "outputId": "245e2dc5-c2be-4aa3-d67d-28df0e3a78c1"
      },
      "execution_count": null,
      "outputs": [
        {
          "output_type": "stream",
          "name": "stdout",
          "text": [
            "('immutable', True, 23)\n"
          ]
        }
      ]
    },
    {
      "cell_type": "code",
      "source": [
        "# Code for converting a list and a string into a tuple\n",
        "a = [0, 1, 2]\n",
        "tup = tuple(a)\n",
        "\n",
        "print(tup)\n"
      ],
      "metadata": {
        "colab": {
          "base_uri": "https://localhost:8080/"
        },
        "id": "7YRmS_5MriSn",
        "outputId": "42089d2b-4797-443d-a7fa-1fc05f5098d4"
      },
      "execution_count": null,
      "outputs": [
        {
          "output_type": "stream",
          "name": "stdout",
          "text": [
            "(0, 1, 2)\n"
          ]
        }
      ]
    },
    {
      "cell_type": "code",
      "source": [
        "# python code for creating tuples in a loop\n",
        "tup = ('gfg',)\n",
        "\n",
        "# Number of time loop runs\n",
        "n = 5\n",
        "for i in range(int(n)):\n",
        "    tup = (tup,)\n",
        "    print(tup)\n"
      ],
      "metadata": {
        "colab": {
          "base_uri": "https://localhost:8080/"
        },
        "id": "5JAWPRh3rpnr",
        "outputId": "d1e1efe7-8b23-4a4b-9f3f-fb5cf64aca2f"
      },
      "execution_count": null,
      "outputs": [
        {
          "output_type": "stream",
          "name": "stdout",
          "text": [
            "(('gfg',),)\n",
            "((('gfg',),),)\n",
            "(((('gfg',),),),)\n",
            "((((('gfg',),),),),)\n",
            "(((((('gfg',),),),),),)\n"
          ]
        }
      ]
    },
    {
      "cell_type": "code",
      "source": [
        "tup = (\"gfg\", \"Python\")\n",
        "print(tup)\n"
      ],
      "metadata": {
        "colab": {
          "base_uri": "https://localhost:8080/"
        },
        "id": "FYuHqvvDr-Vo",
        "outputId": "24e6182f-dbbc-4bec-f1f7-dce5ff1ab586"
      },
      "execution_count": null,
      "outputs": [
        {
          "output_type": "stream",
          "name": "stdout",
          "text": [
            "('gfg', 'Python')\n"
          ]
        }
      ]
    },
    {
      "cell_type": "code",
      "source": [
        "# Creating a tuple without brackets\n",
        "tup = 4, 5, 6\n",
        "print(tup)\n"
      ],
      "metadata": {
        "colab": {
          "base_uri": "https://localhost:8080/"
        },
        "id": "_GjC63uKselY",
        "outputId": "6c520e4a-c442-4efe-9111-e075bb48c808"
      },
      "execution_count": null,
      "outputs": [
        {
          "output_type": "stream",
          "name": "stdout",
          "text": [
            "(4, 5, 6)\n"
          ]
        }
      ]
    },
    {
      "cell_type": "code",
      "source": [
        "# Creating a tuple using the tuple() constructor\n",
        "tup = tuple([7, 8, 9])\n",
        "print(tup)\n"
      ],
      "metadata": {
        "colab": {
          "base_uri": "https://localhost:8080/"
        },
        "id": "Ord1sKQgslFP",
        "outputId": "86c802f8-3460-4aa5-fcfd-8c75bbc48a2f"
      },
      "execution_count": null,
      "outputs": [
        {
          "output_type": "stream",
          "name": "stdout",
          "text": [
            "(7, 8, 9)\n"
          ]
        }
      ]
    },
    {
      "cell_type": "code",
      "source": [
        "# Creating a single-element tuple\n",
        "tup = (10, ) # Comma is important here\n",
        "print(tup)  # Output: (10,)\n",
        "print(type(tup))\n",
        "\n",
        "# What if we do not use comma\n",
        "tup = (10) # This an integer (not a tuple)\n",
        "print(tup)\n",
        "print(type(tup))\n"
      ],
      "metadata": {
        "colab": {
          "base_uri": "https://localhost:8080/"
        },
        "id": "PlF-0NWVsypp",
        "outputId": "98aaaaa5-b6bd-49d8-baaf-cb12e63ee554"
      },
      "execution_count": null,
      "outputs": [
        {
          "output_type": "stream",
          "name": "stdout",
          "text": [
            "(10,)\n",
            "<class 'tuple'>\n",
            "10\n",
            "<class 'int'>\n"
          ]
        }
      ]
    },
    {
      "cell_type": "code",
      "source": [
        "# Tuple packing\n",
        "a, b, c = 11, 12, 13\n",
        "tup = (a, b, c)\n",
        "print(tup)\n"
      ],
      "metadata": {
        "colab": {
          "base_uri": "https://localhost:8080/"
        },
        "id": "l3c3X98rs9em",
        "outputId": "fbf86f24-e595-468c-bdc3-df7b878d6598"
      },
      "execution_count": null,
      "outputs": [
        {
          "output_type": "stream",
          "name": "stdout",
          "text": [
            "(11, 12, 13)\n"
          ]
        }
      ]
    },
    {
      "cell_type": "code",
      "source": [
        "\"Dictionaries in Python\""
      ],
      "metadata": {
        "id": "DRB2JYAYuhC-"
      },
      "execution_count": null,
      "outputs": []
    },
    {
      "cell_type": "code",
      "source": [
        "d = {1: 'Geeks', 2: 'For', 3: 'Geeks'}\n",
        "print(d)\n"
      ],
      "metadata": {
        "colab": {
          "base_uri": "https://localhost:8080/"
        },
        "id": "A741lQRQumjm",
        "outputId": "957f18b7-787a-4393-b86e-578063eac4b3"
      },
      "execution_count": null,
      "outputs": [
        {
          "output_type": "stream",
          "name": "stdout",
          "text": [
            "{1: 'Geeks', 2: 'For', 3: 'Geeks'}\n"
          ]
        }
      ]
    },
    {
      "cell_type": "code",
      "source": [
        "# create dictionary using { }\n",
        "d1 = {1: 'Geeks', 2: 'For', 3: 'Geeks'}\n",
        "print(d1)\n",
        "\n",
        "# create dictionary using dict() constructor\n",
        "d2 = dict(a = \"Geeks\", b = \"for\", c = \"Geeks\")\n",
        "print(d2)\n"
      ],
      "metadata": {
        "colab": {
          "base_uri": "https://localhost:8080/"
        },
        "id": "d2kXsJYXuz5b",
        "outputId": "a3e50621-c634-4ff3-e0c7-2bcd01a9d1a7"
      },
      "execution_count": null,
      "outputs": [
        {
          "output_type": "stream",
          "name": "stdout",
          "text": [
            "{1: 'Geeks', 2: 'For', 3: 'Geeks'}\n",
            "{'a': 'Geeks', 'b': 'for', 'c': 'Geeks'}\n"
          ]
        }
      ]
    },
    {
      "cell_type": "code",
      "source": [
        "d = { \"name\": \"Alice\", 1: \"Python\", (1, 2): [1,2,4] }\n",
        "\n",
        "# Access using key\n",
        "print(d[\"name\"])\n",
        "\n",
        "# Access using get()\n",
        "print(d.get(\"name\"))\n"
      ],
      "metadata": {
        "colab": {
          "base_uri": "https://localhost:8080/"
        },
        "id": "BejmdvvHu_-_",
        "outputId": "bedd0531-a05b-40a2-b01b-e09efbd987be"
      },
      "execution_count": null,
      "outputs": [
        {
          "output_type": "stream",
          "name": "stdout",
          "text": [
            "Alice\n",
            "Alice\n"
          ]
        }
      ]
    },
    {
      "cell_type": "code",
      "source": [
        "d = {1: 'Geeks', 2: 'For', 3: 'Geeks'}\n",
        "\n",
        "# Adding a new key-value pair\n",
        "d[\"age\"] = 22\n",
        "\n",
        "# Updating an existing value\n",
        "d[1] = \"Python dict\"\n",
        "\n",
        "print(d)\n"
      ],
      "metadata": {
        "colab": {
          "base_uri": "https://localhost:8080/"
        },
        "id": "ro_-tdpZvMrq",
        "outputId": "fbfa139b-8d0a-442f-caa6-156648743eac"
      },
      "execution_count": null,
      "outputs": [
        {
          "output_type": "stream",
          "name": "stdout",
          "text": [
            "{1: 'Python dict', 2: 'For', 3: 'Geeks', 'age': 22}\n"
          ]
        }
      ]
    },
    {
      "cell_type": "code",
      "source": [
        "d = {1: 'Geeks', 2: 'For', 3: 'Geeks', 'age':22}\n",
        "\n",
        "# Using del to remove an item\n",
        "del d[\"age\"]\n",
        "print(d)\n",
        "\n",
        "# Using pop() to remove an item and return the value\n",
        "val = d.pop(1)\n",
        "print(val)\n",
        "\n",
        "# Using popitem to removes and returns\n",
        "# the last key-value pair.\n",
        "key, val = d.popitem()\n",
        "print(f\"Key: {key}, Value: {val}\")\n",
        "\n",
        "# Clear all items from the dictionary\n",
        "d.clear()\n",
        "print(d)\n"
      ],
      "metadata": {
        "colab": {
          "base_uri": "https://localhost:8080/"
        },
        "id": "15T9VjnqvcRN",
        "outputId": "b9c0140e-9f94-4932-b08a-1d1fa174aa02"
      },
      "execution_count": null,
      "outputs": [
        {
          "output_type": "stream",
          "name": "stdout",
          "text": [
            "{1: 'Geeks', 2: 'For', 3: 'Geeks'}\n",
            "Geeks\n",
            "Key: 3, Value: Geeks\n",
            "{}\n"
          ]
        }
      ]
    },
    {
      "cell_type": "code",
      "source": [
        "d = {1: 'Geeks', 2: 'For', 'age':22}\n",
        "\n",
        "# Iterate over keys\n",
        "for key in d:\n",
        "    print(key)\n",
        "\n",
        "# Iterate over values\n",
        "for value in d.values():\n",
        "    print(value)\n",
        "\n",
        "# Iterate over key-value pairs\n",
        "for key, value in d.items():\n",
        "    print(f\"{key}: {value}\")\n"
      ],
      "metadata": {
        "colab": {
          "base_uri": "https://localhost:8080/"
        },
        "id": "i2FGQmAcvgWm",
        "outputId": "1fb5e307-6c84-49cb-f41b-8ab6956c06cb"
      },
      "execution_count": null,
      "outputs": [
        {
          "output_type": "stream",
          "name": "stdout",
          "text": [
            "1\n",
            "2\n",
            "age\n",
            "Geeks\n",
            "For\n",
            "22\n",
            "1: Geeks\n",
            "2: For\n",
            "age: 22\n"
          ]
        }
      ]
    },
    {
      "cell_type": "code",
      "source": [
        "d = {1: 'Geeks', 2: 'For',\n",
        "        3: {'A': 'Welcome', 'B': 'To', 'C': 'Geeks'}}\n",
        "\n",
        "print(d)\n"
      ],
      "metadata": {
        "colab": {
          "base_uri": "https://localhost:8080/"
        },
        "id": "bJFjpuHYvtXo",
        "outputId": "af537f16-ebb7-415d-ffa4-894646ec7cfe"
      },
      "execution_count": null,
      "outputs": [
        {
          "output_type": "stream",
          "name": "stdout",
          "text": [
            "{1: 'Geeks', 2: 'For', 3: {'A': 'Welcome', 'B': 'To', 'C': 'Geeks'}}\n"
          ]
        }
      ]
    },
    {
      "cell_type": "code",
      "source": [
        "\"Python List\""
      ],
      "metadata": {
        "id": "kk6Vo3xY6klE"
      },
      "execution_count": null,
      "outputs": []
    },
    {
      "cell_type": "code",
      "source": [
        "# Creating a Python list with different data types\n",
        "a = [10, 20, \"GfG\", 40, True]\n",
        "\n",
        "print(a)\n",
        "\n",
        "# Accessing elements using indexing\n",
        "print(a[0])  # 10\n",
        "print(a[1])  # 20\n",
        "print(a[2])  # \"GfG\"\n",
        "print(a[3])  # 40\n",
        "print(a[4])  # True\n",
        "\n",
        "# Checking types of elements\n",
        "print(type(a[2]))  # str\n",
        "print(type(a[4]))  # bool\n"
      ],
      "metadata": {
        "colab": {
          "base_uri": "https://localhost:8080/"
        },
        "id": "vZA-3QV-6rZV",
        "outputId": "9f7debac-c852-47ee-8fbf-5c1a71441957"
      },
      "execution_count": 1,
      "outputs": [
        {
          "output_type": "stream",
          "name": "stdout",
          "text": [
            "[10, 20, 'GfG', 40, True]\n",
            "10\n",
            "20\n",
            "GfG\n",
            "40\n",
            "True\n",
            "<class 'str'>\n",
            "<class 'bool'>\n"
          ]
        }
      ]
    },
    {
      "cell_type": "code",
      "source": [
        "# List of integers\n",
        "a = [1, 2, 3, 4, 5]\n",
        "\n",
        "# List of strings\n",
        "b = ['apple', 'banana', 'cherry']\n",
        "\n",
        "# Mixed data types\n",
        "c = [1, 'hello', 3.14, True]\n",
        "\n",
        "print(a)\n",
        "print(b)\n",
        "print(c)\n"
      ],
      "metadata": {
        "colab": {
          "base_uri": "https://localhost:8080/"
        },
        "id": "JzD3GdQi6-JE",
        "outputId": "8f3165dc-7609-40cb-b1e6-5352f89f3b28"
      },
      "execution_count": 2,
      "outputs": [
        {
          "output_type": "stream",
          "name": "stdout",
          "text": [
            "[1, 2, 3, 4, 5]\n",
            "['apple', 'banana', 'cherry']\n",
            "[1, 'hello', 3.14, True]\n"
          ]
        }
      ]
    },
    {
      "cell_type": "code",
      "source": [
        "# List of integers\n",
        "a = [1, 2, 3, 4, 5]\n",
        "\n",
        "# List of strings\n",
        "b = ['apple', 'banana', 'cherry']\n",
        "\n",
        "# Mixed data types\n",
        "c = [1, 'hello', 3.14, True]\n",
        "\n",
        "print(a)\n",
        "print(b)\n",
        "print(c)\n"
      ],
      "metadata": {
        "colab": {
          "base_uri": "https://localhost:8080/"
        },
        "id": "vOGXBIgg7ITE",
        "outputId": "3f52e9a2-6615-4342-ea15-beec6768ba44"
      },
      "execution_count": 3,
      "outputs": [
        {
          "output_type": "stream",
          "name": "stdout",
          "text": [
            "[1, 2, 3, 4, 5]\n",
            "['apple', 'banana', 'cherry']\n",
            "[1, 'hello', 3.14, True]\n"
          ]
        }
      ]
    },
    {
      "cell_type": "code",
      "source": [
        "# Create a list [2, 2, 2, 2, 2]\n",
        "a = [2] * 5\n",
        "\n",
        "# Create a list [0, 0, 0, 0, 0, 0, 0]\n",
        "b = [0] * 7\n",
        "\n",
        "print(a)\n",
        "print(b)\n"
      ],
      "metadata": {
        "colab": {
          "base_uri": "https://localhost:8080/"
        },
        "id": "BMKOnXiR7Uxu",
        "outputId": "10908abb-1b4e-44ed-8ec3-d84c1447f0ed"
      },
      "execution_count": 4,
      "outputs": [
        {
          "output_type": "stream",
          "name": "stdout",
          "text": [
            "[2, 2, 2, 2, 2]\n",
            "[0, 0, 0, 0, 0, 0, 0]\n"
          ]
        }
      ]
    },
    {
      "cell_type": "code",
      "source": [
        "a = [10, 20, 30, 40, 50]\n",
        "\n",
        "# Access first element\n",
        "print(a[0])\n",
        "\n",
        "# Access last element\n",
        "print(a[-1])\n"
      ],
      "metadata": {
        "colab": {
          "base_uri": "https://localhost:8080/"
        },
        "id": "Bc2YmVgj702q",
        "outputId": "3a1d0578-d9c6-4edb-d7ff-0e39f9276ed1"
      },
      "execution_count": 5,
      "outputs": [
        {
          "output_type": "stream",
          "name": "stdout",
          "text": [
            "10\n",
            "50\n"
          ]
        }
      ]
    },
    {
      "cell_type": "code",
      "source": [
        "# Initialize an empty list\n",
        "a = []\n",
        "\n",
        "# Adding 10 to end of list\n",
        "a.append(10)\n",
        "print(\"After append(10):\", a)\n",
        "\n",
        "# Inserting 5 at index 0\n",
        "a.insert(0, 5)\n",
        "print(\"After insert(0, 5):\", a)\n",
        "\n",
        "# Adding multiple elements  [15, 20, 25] at the end\n",
        "a.extend([15, 20, 25])\n",
        "print(\"After extend([15, 20, 25]):\", a)\n"
      ],
      "metadata": {
        "id": "3CEpoLMo8Tv5"
      },
      "execution_count": null,
      "outputs": []
    },
    {
      "cell_type": "code",
      "source": [
        "a = [10, 20, 30, 40, 50]\n",
        "\n",
        "# Change the second element\n",
        "a[1] = 25\n",
        "\n",
        "print(a)\n"
      ],
      "metadata": {
        "id": "6v_XMqVUBHdW"
      },
      "execution_count": null,
      "outputs": []
    },
    {
      "cell_type": "code",
      "source": [
        "a = [10, 20, 30, 40, 50]\n",
        "\n",
        "# Removes the first occurrence of 30\n",
        "a.remove(30)\n",
        "print(\"After remove(30):\", a)\n",
        "\n",
        "# Removes the element at index 1 (20)\n",
        "popped_val = a.pop(1)\n",
        "print(\"Popped element:\", popped_val)\n",
        "print(\"After pop(1):\", a)\n",
        "\n",
        "# Deletes the first element (10)\n",
        "del a[0]\n",
        "print(\"After del a[0]:\", a)\n"
      ],
      "metadata": {
        "id": "VizygpxrBVQn"
      },
      "execution_count": null,
      "outputs": []
    },
    {
      "cell_type": "code",
      "source": [
        "a = ['apple', 'banana', 'cherry']\n",
        "\n",
        "# Iterating over the list\n",
        "for item in a:\n",
        "    print(item)\n"
      ],
      "metadata": {
        "id": "a_WRU05lBlQb"
      },
      "execution_count": null,
      "outputs": []
    },
    {
      "cell_type": "code",
      "source": [
        "matrix = [\n",
        "    [1, 2, 3],\n",
        "    [4, 5, 6],\n",
        "    [7, 8, 9]\n",
        "]\n",
        "\n",
        "# Access element at row 2, column 3\n",
        "print(matrix[1][2])\n"
      ],
      "metadata": {
        "id": "nTcWOJkkBseH"
      },
      "execution_count": null,
      "outputs": []
    }
  ]
}